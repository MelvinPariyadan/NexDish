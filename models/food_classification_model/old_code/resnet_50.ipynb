{
 "cells": [
  {
   "cell_type": "code",
   "execution_count": 1,
   "metadata": {},
   "outputs": [
    {
     "name": "stderr",
     "output_type": "stream",
     "text": [
      "/Users/melvin/ZHAW/Sem 2/MLOps/NexDish/venv/lib/python3.12/site-packages/tqdm/auto.py:21: TqdmWarning: IProgress not found. Please update jupyter and ipywidgets. See https://ipywidgets.readthedocs.io/en/stable/user_install.html\n",
      "  from .autonotebook import tqdm as notebook_tqdm\n"
     ]
    },
    {
     "name": "stdout",
     "output_type": "stream",
     "text": [
      "Using device: mps\n",
      "Extracted 50 random images to food-101/backend_samples\n",
      "Training samples: 68148\n",
      "Validation samples: 7571\n",
      "Test samples: 25231\n"
     ]
    },
    {
     "name": "stderr",
     "output_type": "stream",
     "text": [
      "/Users/melvin/ZHAW/Sem 2/MLOps/NexDish/venv/lib/python3.12/site-packages/torchvision/models/_utils.py:208: UserWarning: The parameter 'pretrained' is deprecated since 0.13 and may be removed in the future, please use 'weights' instead.\n",
      "  warnings.warn(\n",
      "/Users/melvin/ZHAW/Sem 2/MLOps/NexDish/venv/lib/python3.12/site-packages/torchvision/models/_utils.py:223: UserWarning: Arguments other than a weight enum or `None` for 'weights' are deprecated since 0.13 and may be removed in the future. The current behavior is equivalent to passing `weights=ResNet50_Weights.IMAGENET1K_V1`. You can also use `weights=ResNet50_Weights.DEFAULT` to get the most up-to-date weights.\n",
      "  warnings.warn(msg)\n"
     ]
    },
    {
     "name": "stdout",
     "output_type": "stream",
     "text": [
      "Total parameters: 24,608,933\n",
      "Trainable parameters: 24,608,933\n"
     ]
    },
    {
     "name": "stderr",
     "output_type": "stream",
     "text": [
      "Epoch 1/30 [Train]: 100%|██████████| 2130/2130 [17:36<00:00,  2.02it/s, loss=3.25]\n"
     ]
    },
    {
     "name": "stdout",
     "output_type": "stream",
     "text": [
      "Epoch 1: Train Loss = 2.6433, Train Acc = 0.3781 | Val Loss = 1.4509, Val Acc = 0.6372\n",
      "New best validation accuracy: 0.6372\n"
     ]
    },
    {
     "name": "stderr",
     "output_type": "stream",
     "text": [
      "Epoch 2/30 [Train]: 100%|██████████| 2130/2130 [17:29<00:00,  2.03it/s, loss=2.36] \n"
     ]
    },
    {
     "name": "stdout",
     "output_type": "stream",
     "text": [
      "Epoch 2: Train Loss = 1.8253, Train Acc = 0.5493 | Val Loss = 1.2106, Val Acc = 0.6863\n",
      "New best validation accuracy: 0.6863\n"
     ]
    },
    {
     "name": "stderr",
     "output_type": "stream",
     "text": [
      "Epoch 3/30 [Train]: 100%|██████████| 2130/2130 [17:24<00:00,  2.04it/s, loss=1.36] \n"
     ]
    },
    {
     "name": "stdout",
     "output_type": "stream",
     "text": [
      "Epoch 3: Train Loss = 1.6108, Train Acc = 0.6007 | Val Loss = 1.0852, Val Acc = 0.7201\n",
      "New best validation accuracy: 0.7201\n"
     ]
    },
    {
     "name": "stderr",
     "output_type": "stream",
     "text": [
      "Epoch 4/30 [Train]: 100%|██████████| 2130/2130 [17:21<00:00,  2.04it/s, loss=1.18] \n"
     ]
    },
    {
     "name": "stdout",
     "output_type": "stream",
     "text": [
      "Epoch 4: Train Loss = 1.4966, Train Acc = 0.6271 | Val Loss = 1.0447, Val Acc = 0.7387\n",
      "New best validation accuracy: 0.7387\n"
     ]
    },
    {
     "name": "stderr",
     "output_type": "stream",
     "text": [
      "Epoch 5/30 [Train]: 100%|██████████| 2130/2130 [17:20<00:00,  2.05it/s, loss=1.49] \n"
     ]
    },
    {
     "name": "stdout",
     "output_type": "stream",
     "text": [
      "Epoch 5: Train Loss = 1.4134, Train Acc = 0.6471 | Val Loss = 1.0169, Val Acc = 0.7422\n",
      "New best validation accuracy: 0.7422\n"
     ]
    },
    {
     "name": "stderr",
     "output_type": "stream",
     "text": [
      "Epoch 6/30 [Train]: 100%|██████████| 2130/2130 [17:20<00:00,  2.05it/s, loss=1.35] \n"
     ]
    },
    {
     "name": "stdout",
     "output_type": "stream",
     "text": [
      "Epoch 6: Train Loss = 1.3396, Train Acc = 0.6626 | Val Loss = 0.9744, Val Acc = 0.7512\n",
      "New best validation accuracy: 0.7512\n"
     ]
    },
    {
     "name": "stderr",
     "output_type": "stream",
     "text": [
      "Epoch 7/30 [Train]: 100%|██████████| 2130/2130 [17:19<00:00,  2.05it/s, loss=1.1]  \n"
     ]
    },
    {
     "name": "stdout",
     "output_type": "stream",
     "text": [
      "Epoch 7: Train Loss = 1.2855, Train Acc = 0.6759 | Val Loss = 0.9807, Val Acc = 0.7497\n",
      "No improvement for 1 epochs\n"
     ]
    },
    {
     "name": "stderr",
     "output_type": "stream",
     "text": [
      "Epoch 8/30 [Train]: 100%|██████████| 2130/2130 [17:20<00:00,  2.05it/s, loss=1.6]  \n"
     ]
    },
    {
     "name": "stdout",
     "output_type": "stream",
     "text": [
      "Epoch 8: Train Loss = 1.2358, Train Acc = 0.6896 | Val Loss = 0.9388, Val Acc = 0.7607\n",
      "New best validation accuracy: 0.7607\n"
     ]
    },
    {
     "name": "stderr",
     "output_type": "stream",
     "text": [
      "Epoch 9/30 [Train]: 100%|██████████| 2130/2130 [17:21<00:00,  2.05it/s, loss=1.65] \n"
     ]
    },
    {
     "name": "stdout",
     "output_type": "stream",
     "text": [
      "Epoch 9: Train Loss = 1.1958, Train Acc = 0.6990 | Val Loss = 0.9055, Val Acc = 0.7727\n",
      "New best validation accuracy: 0.7727\n"
     ]
    },
    {
     "name": "stderr",
     "output_type": "stream",
     "text": [
      "Epoch 10/30 [Train]: 100%|██████████| 2130/2130 [17:19<00:00,  2.05it/s, loss=1.03] \n"
     ]
    },
    {
     "name": "stdout",
     "output_type": "stream",
     "text": [
      "Epoch 10: Train Loss = 1.1572, Train Acc = 0.7057 | Val Loss = 0.8969, Val Acc = 0.7731\n",
      "New best validation accuracy: 0.7731\n"
     ]
    },
    {
     "name": "stderr",
     "output_type": "stream",
     "text": [
      "Epoch 11/30 [Train]: 100%|██████████| 2130/2130 [17:19<00:00,  2.05it/s, loss=1.22] \n"
     ]
    },
    {
     "name": "stdout",
     "output_type": "stream",
     "text": [
      "Epoch 11: Train Loss = 1.1296, Train Acc = 0.7128 | Val Loss = 0.9228, Val Acc = 0.7723\n",
      "No improvement for 1 epochs\n"
     ]
    },
    {
     "name": "stderr",
     "output_type": "stream",
     "text": [
      "Epoch 12/30 [Train]: 100%|██████████| 2130/2130 [17:20<00:00,  2.05it/s, loss=0.864]\n"
     ]
    },
    {
     "name": "stdout",
     "output_type": "stream",
     "text": [
      "Epoch 12: Train Loss = 1.0936, Train Acc = 0.7203 | Val Loss = 0.9269, Val Acc = 0.7753\n",
      "New best validation accuracy: 0.7753\n"
     ]
    },
    {
     "name": "stderr",
     "output_type": "stream",
     "text": [
      "Epoch 13/30 [Train]: 100%|██████████| 2130/2130 [17:19<00:00,  2.05it/s, loss=0.845]\n"
     ]
    },
    {
     "name": "stdout",
     "output_type": "stream",
     "text": [
      "Epoch 13: Train Loss = 1.0700, Train Acc = 0.7276 | Val Loss = 0.8574, Val Acc = 0.7871\n",
      "New best validation accuracy: 0.7871\n"
     ]
    },
    {
     "name": "stderr",
     "output_type": "stream",
     "text": [
      "Epoch 14/30 [Train]: 100%|██████████| 2130/2130 [17:22<00:00,  2.04it/s, loss=0.624]\n"
     ]
    },
    {
     "name": "stdout",
     "output_type": "stream",
     "text": [
      "Epoch 14: Train Loss = 1.0410, Train Acc = 0.7349 | Val Loss = 0.8965, Val Acc = 0.7790\n",
      "No improvement for 1 epochs\n"
     ]
    },
    {
     "name": "stderr",
     "output_type": "stream",
     "text": [
      "Epoch 15/30 [Train]: 100%|██████████| 2130/2130 [17:26<00:00,  2.03it/s, loss=1.26] \n"
     ]
    },
    {
     "name": "stdout",
     "output_type": "stream",
     "text": [
      "Epoch 15: Train Loss = 1.0185, Train Acc = 0.7392 | Val Loss = 0.8936, Val Acc = 0.7807\n",
      "No improvement for 2 epochs\n"
     ]
    },
    {
     "name": "stderr",
     "output_type": "stream",
     "text": [
      "Epoch 16/30 [Train]: 100%|██████████| 2130/2130 [17:44<00:00,  2.00it/s, loss=1.17] \n"
     ]
    },
    {
     "name": "stdout",
     "output_type": "stream",
     "text": [
      "Epoch 16: Train Loss = 0.9951, Train Acc = 0.7455 | Val Loss = 0.8915, Val Acc = 0.7855\n",
      "No improvement for 3 epochs\n",
      "Early stopping triggered after 16 epochs\n",
      "Loaded best model with validation accuracy: 0.7871\n"
     ]
    },
    {
     "name": "stderr",
     "output_type": "stream",
     "text": [
      "Testing: 100%|██████████| 789/789 [02:37<00:00,  5.02it/s]\n"
     ]
    },
    {
     "name": "stdout",
     "output_type": "stream",
     "text": [
      "Test Accuracy: 0.8310\n"
     ]
    },
    {
     "data": {
      "image/png": "[encoded data removed]",
      "text/plain": [
       "<Figure size 1200x500 with 2 Axes>"
      ]
     },
     "metadata": {},
     "output_type": "display_data"
    }
   ],
   "source": [
    "import os\n",
    "import random\n",
    "import shutil\n",
    "import certifi\n",
    "os.environ[\"SSL_CERT_FILE\"] = certifi.where()\n",
    "\n",
    "from PIL import Image, ImageFile\n",
    "ImageFile.LOAD_TRUNCATED_IMAGES = True\n",
    "\n",
    "import matplotlib.pyplot as plt\n",
    "import torch\n",
    "from torch.utils.data import Dataset, DataLoader, random_split\n",
    "from torchvision import transforms\n",
    "from torchvision.models import resnet50\n",
    "import torch.nn as nn\n",
    "import torch.optim as optim\n",
    "from tqdm.auto import tqdm\n",
    "\n",
    "BATCH_SIZE = 32\n",
    "NUM_CLASSES = 101\n",
    "NUM_EPOCHS = 30\n",
    "LR = 1e-4\n",
    "PATIENCE = 3\n",
    "VAL_SPLIT = 0.1\n",
    "BACKEND_SAMPLES = 50\n",
    "\n",
    "device = torch.device(\"mps\" if torch.backends.mps.is_available() else \"cpu\")\n",
    "# device = torch.device(\"cuda\" if torch.cuda.is_available() else \"cpu\")\n",
    "print(\"Using device:\", device)\n",
    "\n",
    "BASE_DIR = \"dataset\"\n",
    "IM_DIR = os.path.join(BASE_DIR, \"images\")\n",
    "META_DIR = os.path.join(BASE_DIR, \"meta\")\n",
    "TRAIN_FILE = os.path.join(META_DIR, \"train.txt\")\n",
    "TEST_FILE = os.path.join(META_DIR, \"test.txt\")\n",
    "CLASSES_FILE = os.path.join(META_DIR, \"classes.txt\")\n",
    "BACKEND_DIR = os.path.join(BASE_DIR, \"backend_samples\")\n",
    "\n",
    "os.makedirs(BACKEND_DIR, exist_ok=True)\n",
    "\n",
    "with open(CLASSES_FILE) as f:\n",
    "    classes = [line.strip() for line in f if line.strip()]\n",
    "class2idx = {c: i for i, c in enumerate(classes)}\n",
    "idx2class = {i: c for c, i in class2idx.items()}\n",
    "\n",
    "class Food101Dataset(Dataset):\n",
    "    def __init__(self, split_txt=None, items=None, transform=None):\n",
    "        self.transform = transform\n",
    "        self.items = []\n",
    "        \n",
    "        if items is not None:\n",
    "            self.items = items\n",
    "        elif split_txt:\n",
    "            with open(split_txt) as f:\n",
    "                for line in f:\n",
    "                    line = line.strip()\n",
    "                    if not line:\n",
    "                        continue\n",
    "                    cls, img_id = line.split('/')\n",
    "                    idx = class2idx[cls]\n",
    "                    path = os.path.join(IM_DIR, cls, img_id + \".jpg\")\n",
    "                    self.items.append((path, idx))\n",
    "\n",
    "    def __len__(self):\n",
    "        return len(self.items)\n",
    "\n",
    "    def __getitem__(self, i):\n",
    "        path, label = self.items[i]\n",
    "        img = Image.open(path).convert(\"RGB\")\n",
    "        if self.transform:\n",
    "            img = self.transform(img)\n",
    "        return img, label\n",
    "\n",
    "# Using the transforms from the second snippet\n",
    "train_tfms = transforms.Compose([\n",
    "    transforms.RandomResizedCrop(224),\n",
    "    transforms.RandomHorizontalFlip(),\n",
    "    transforms.ToTensor(),\n",
    "    transforms.Normalize(mean=[0.485, 0.456, 0.406],\n",
    "                         std=[0.229, 0.224, 0.225]),\n",
    "])\n",
    "\n",
    "val_tfms = transforms.Compose([\n",
    "    transforms.Resize(256),\n",
    "    transforms.CenterCrop(224),\n",
    "    transforms.ToTensor(),\n",
    "    transforms.Normalize(mean=[0.485, 0.456, 0.406],\n",
    "                         std=[0.229, 0.224, 0.225]),\n",
    "])\n",
    "\n",
    "def extract_backend_samples():\n",
    "    all_images = []\n",
    "    for cls in classes:\n",
    "        cls_dir = os.path.join(IM_DIR, cls)\n",
    "        if os.path.exists(cls_dir):\n",
    "            images = [os.path.join(cls_dir, img) for img in os.listdir(cls_dir) if img.endswith('.jpg')]\n",
    "            all_images.extend([(img, cls) for img in images])\n",
    "    \n",
    "    if len(all_images) > BACKEND_SAMPLES:\n",
    "        backend_samples = random.sample(all_images, BACKEND_SAMPLES)\n",
    "        for img_path, cls in backend_samples:\n",
    "            cls_dir = os.path.join(BACKEND_DIR, cls)\n",
    "            os.makedirs(cls_dir, exist_ok=True)\n",
    "            img_filename = os.path.basename(img_path)\n",
    "            shutil.copy(img_path, os.path.join(cls_dir, img_filename))\n",
    "        print(f\"Extracted {BACKEND_SAMPLES} random images to {BACKEND_DIR}\")\n",
    "        return [img_path for img_path, _ in backend_samples]\n",
    "    else:\n",
    "        print(\"Not enough images to sample for backend testing\")\n",
    "        return []\n",
    "\n",
    "backend_image_paths = extract_backend_samples()\n",
    "backend_image_paths_set = set(backend_image_paths)\n",
    "\n",
    "train_items = []\n",
    "with open(TRAIN_FILE) as f:\n",
    "    for line in f:\n",
    "        line = line.strip()\n",
    "        if not line: continue\n",
    "        cls, img_id = line.split('/')\n",
    "        idx = class2idx[cls]\n",
    "        path = os.path.join(IM_DIR, cls, img_id + \".jpg\")\n",
    "        if path in backend_image_paths_set:\n",
    "            continue\n",
    "        train_items.append((path, idx))\n",
    "\n",
    "test_items = []\n",
    "with open(TEST_FILE) as f:\n",
    "    for line in f:\n",
    "        line = line.strip()\n",
    "        if not line: continue\n",
    "        cls, img_id = line.split('/')\n",
    "        idx = class2idx[cls]\n",
    "        path = os.path.join(IM_DIR, cls, img_id + \".jpg\")\n",
    "        if path in backend_image_paths_set:\n",
    "            continue\n",
    "        test_items.append((path, idx))\n",
    "\n",
    "val_size = int(len(train_items) * VAL_SPLIT)\n",
    "train_size = len(train_items) - val_size\n",
    "train_items, val_items = random_split(train_items, [train_size, val_size])\n",
    "\n",
    "train_ds = Food101Dataset(items=train_items, transform=train_tfms)\n",
    "val_ds = Food101Dataset(items=val_items, transform=val_tfms)\n",
    "test_ds = Food101Dataset(items=test_items, transform=val_tfms)\n",
    "\n",
    "print(f\"Training samples: {len(train_ds)}\")\n",
    "print(f\"Validation samples: {len(val_ds)}\")\n",
    "print(f\"Test samples: {len(test_ds)}\")\n",
    "\n",
    "train_loader = DataLoader(train_ds, batch_size=BATCH_SIZE, shuffle=True)\n",
    "val_loader = DataLoader(val_ds, batch_size=BATCH_SIZE, shuffle=False)\n",
    "test_loader = DataLoader(test_ds, batch_size=BATCH_SIZE, shuffle=False)\n",
    "\n",
    "# Using the model architecture from the second snippet\n",
    "model = resnet50(pretrained=True)\n",
    "\n",
    "# Modified model with hidden layer as in the second snippet\n",
    "hidden_dim = 512\n",
    "in_features = model.fc.in_features  # → 2048 for ResNet-50\n",
    "\n",
    "model.fc = nn.Sequential(\n",
    "    nn.Linear(in_features, hidden_dim),\n",
    "    nn.ReLU(inplace=True),\n",
    "    nn.Dropout(p=0.5),\n",
    "    nn.Linear(hidden_dim, NUM_CLASSES)\n",
    ")\n",
    "\n",
    "model = model.to(device)\n",
    "\n",
    "total_params = sum(p.numel() for p in model.parameters())\n",
    "trainable_params = sum(p.numel() for p in model.parameters() if p.requires_grad)\n",
    "print(f\"Total parameters: {total_params:,}\")\n",
    "print(f\"Trainable parameters: {trainable_params:,}\")\n",
    "\n",
    "criterion = nn.CrossEntropyLoss()\n",
    "optimizer = optim.Adam(model.parameters(), lr=LR)\n",
    "\n",
    "train_accs = []\n",
    "val_accs = []\n",
    "train_losses = []\n",
    "val_losses = []\n",
    "\n",
    "best_val_acc = 0\n",
    "patience_counter = 0\n",
    "best_model_weights = None\n",
    "\n",
    "for epoch in range(1, NUM_EPOCHS + 1):\n",
    "    model.train()\n",
    "    correct_train = total_train = 0\n",
    "    running_loss = 0.0\n",
    "    \n",
    "    pbar = tqdm(train_loader, desc=f\"Epoch {epoch}/{NUM_EPOCHS} [Train]\")\n",
    "    for imgs, labels in pbar:\n",
    "        imgs, labels = imgs.to(device), labels.to(device)\n",
    "        preds = model(imgs)\n",
    "        loss = criterion(preds, labels)\n",
    "        \n",
    "        optimizer.zero_grad()\n",
    "        loss.backward()\n",
    "        optimizer.step()\n",
    "        \n",
    "        running_loss += loss.item() * imgs.size(0)\n",
    "        predicted = preds.argmax(dim=1)\n",
    "        correct_train += (predicted == labels).sum().item()\n",
    "        total_train += labels.size(0)\n",
    "        \n",
    "        pbar.set_postfix(loss=loss.item())\n",
    "\n",
    "    train_loss = running_loss / total_train\n",
    "    train_acc = correct_train / total_train\n",
    "    train_accs.append(train_acc)\n",
    "    train_losses.append(train_loss)\n",
    "\n",
    "    model.eval()\n",
    "    correct_val = total_val = 0\n",
    "    val_running_loss = 0.0\n",
    "\n",
    "    with torch.no_grad():\n",
    "        for imgs, labels in val_loader:\n",
    "            imgs, labels = imgs.to(device), labels.to(device)\n",
    "            preds = model(imgs)\n",
    "            val_loss = criterion(preds, labels)\n",
    "            val_running_loss += val_loss.item() * imgs.size(0)\n",
    "            predicted = preds.argmax(dim=1)\n",
    "            correct_val += (predicted == labels).sum().item()\n",
    "            total_val += labels.size(0)\n",
    "\n",
    "    val_loss = val_running_loss / total_val\n",
    "    val_acc = correct_val / total_val\n",
    "    val_accs.append(val_acc)\n",
    "    val_losses.append(val_loss)\n",
    "\n",
    "    print(f\"Epoch {epoch}: Train Loss = {train_loss:.4f}, Train Acc = {train_acc:.4f} | Val Loss = {val_loss:.4f}, Val Acc = {val_acc:.4f}\")\n",
    "\n",
    "    if val_acc > best_val_acc:\n",
    "        best_val_acc = val_acc\n",
    "        patience_counter = 0\n",
    "        best_model_weights = model.state_dict().copy()\n",
    "        print(f\"New best validation accuracy: {best_val_acc:.4f}\")\n",
    "    else:\n",
    "        patience_counter += 1\n",
    "        print(f\"No improvement for {patience_counter} epochs\")\n",
    "\n",
    "        if patience_counter >= PATIENCE:\n",
    "            print(f\"Early stopping triggered after {epoch} epochs\")\n",
    "            break\n",
    "\n",
    "if best_model_weights is not None:\n",
    "    model.load_state_dict(best_model_weights)\n",
    "    print(f\"Loaded best model with validation accuracy: {best_val_acc:.4f}\")\n",
    "\n",
    "model.eval()\n",
    "correct_test = total_test = 0\n",
    "\n",
    "with torch.no_grad():\n",
    "    for imgs, labels in tqdm(test_loader, desc=\"Testing\"):\n",
    "        imgs, labels = imgs.to(device), labels.to(device)\n",
    "        preds = model(imgs)\n",
    "        predicted = preds.argmax(dim=1)\n",
    "        correct_test += (predicted == labels).sum().item()\n",
    "        total_test += labels.size(0)\n",
    "\n",
    "test_acc = correct_test / total_test\n",
    "print(f\"Test Accuracy: {test_acc:.4f}\")\n"
   ]
  },
  {
   "cell_type": "code",
   "execution_count": null,
   "metadata": {},
   "outputs": [],
   "source": [
    "\n",
    "torch.save({\n",
    "    'model_state_dict': model.state_dict(),\n",
    "    'optimizer_state_dict': optimizer.state_dict(),\n",
    "    'classes': classes,\n",
    "    'test_acc': test_acc,\n",
    "    'best_val_acc': best_val_acc\n",
    "}, 'models/food_classification_model/checkpoints/resnet50_full_dataset.pth')\n"
   ]
  },
  {
   "cell_type": "code",
   "execution_count": null,
   "metadata": {},
   "outputs": [],
   "source": [
    "\n",
    "epochs = list(range(1, len(train_accs) + 1))\n",
    "\n",
    "plt.figure(figsize=(12, 5))\n",
    "\n",
    "plt.subplot(1, 2, 1)\n",
    "plt.plot(epochs, train_accs, marker='o', label='Train Accuracy')\n",
    "plt.plot(epochs, val_accs, marker='o', label='Validation Accuracy')\n",
    "plt.title('Training vs. Validation Accuracy')\n",
    "plt.xlabel('Epoch')\n",
    "plt.ylabel('Accuracy')\n",
    "plt.legend()\n",
    "plt.grid(True)\n",
    "\n",
    "plt.subplot(1, 2, 2)\n",
    "plt.plot(epochs, train_losses, marker='o', label='Train Loss')\n",
    "plt.plot(epochs, val_losses, marker='o', label='Validation Loss')\n",
    "plt.title('Training vs. Validation Loss')\n",
    "plt.xlabel('Epoch')\n",
    "plt.ylabel('Loss')\n",
    "plt.legend()\n",
    "plt.grid(True)\n",
    "\n",
    "plt.tight_layout()\n",
    "plt.savefig('resnet_50_model_test.png')\n",
    "plt.show()"
   ]
  },
  {
   "cell_type": "code",
   "execution_count": null,
   "metadata": {},
   "outputs": [],
   "source": []
  }
 ],
 "metadata": {
  "kernelspec": {
   "display_name": "venv",
   "language": "python",
   "name": "python3"
  },
  "language_info": {
   "codemirror_mode": {
    "name": "ipython",
    "version": 3
   },
   "file_extension": ".py",
   "mimetype": "text/x-python",
   "name": "python",
   "nbconvert_exporter": "python",
   "pygments_lexer": "ipython3",
   "version": "3.12.4"
  }
 },
 "nbformat": 4,
 "nbformat_minor": 2
}
